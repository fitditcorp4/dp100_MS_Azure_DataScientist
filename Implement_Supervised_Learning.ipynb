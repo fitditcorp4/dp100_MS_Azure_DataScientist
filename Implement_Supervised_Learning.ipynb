{
 "cells": [
  {
   "attachments": {},
   "cell_type": "markdown",
   "metadata": {},
   "source": [
    "# Project Problem\n",
    "Your family has managed Washington State's longest-running elk farm for several generations, but the health of your herd has slowly worsened for decades. It's well known that your farm's breed of elk should not be fed grain when nightly temperatures average above freezing (32°F or 0°C). For that reason, you've always followed your grandfather's farming calendar and switched from grain feed after January 31.\n",
    "\n",
    "You've recently read about climate change affecting farming practices. Could this explain the poorer health of elk in recent years? With some historical weather data at your side, you seek to determine whether local temperatures have changed from your grandfather's day, and whether your farming calendar needs to be updated."
   ]
  },
  {
   "attachments": {},
   "cell_type": "markdown",
   "metadata": {},
   "source": [
    "# Exercise: Supervised learning\n",
    "\n",
    "Recall that in our problem, we want to look at how January temperatures have changed over time. Now we'll build a model that achieves this by using supervised learning. \n",
    "\n",
    "With many libraries, we can build a model in only a few lines of code. Here, we'll break down the process into steps so that we can explore how things work.\n",
    "\n",
    "## Four components\n",
    "Recall that there are four key components to supervised learning: the data, the model, the cost function, and the optimizer. Let's inspect these one at a time.\n",
    "\n",
    "### 1. The data\n",
    "\n",
    "We'll use publicly available weather data for Seattle. Let's load that and restrict it to January temperatures."
   ]
  },
  {
   "cell_type": "code",
   "execution_count": null,
   "metadata": {},
   "outputs": [],
   "source": []
  }
 ],
 "metadata": {
  "kernelspec": {
   "display_name": "Python 3",
   "language": "python",
   "name": "python3"
  },
  "language_info": {
   "name": "python",
   "version": "3.8.15 (default, Oct 12 2022, 19:15:16) \n[GCC 11.2.0]"
  },
  "orig_nbformat": 4,
  "vscode": {
   "interpreter": {
    "hash": "5b3ded1ccb95c1d9bd405e7b823d9e85424cde40fbb5985eb47e999ef50e15b4"
   }
  }
 },
 "nbformat": 4,
 "nbformat_minor": 2
}
