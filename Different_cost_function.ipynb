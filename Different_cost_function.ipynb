{
 "cells": [
  {
   "attachments": {},
   "cell_type": "markdown",
   "metadata": {},
   "source": [
    "# Supervised learning by using different cost functions\n",
    "\n",
    "In this exercise, we'll have a deeper look at how cost functions can change:\n",
    "\n",
    "* How well models appear to have fit data.\n",
    "* The kinds of relationships a model represents.\n",
    "\n",
    "## Loading the data\n",
    "\n",
    "Let's start by loading the data. To make this exercise simpler, we'll use only a few datapoints this time."
   ]
  },
  {
   "cell_type": "code",
   "execution_count": null,
   "metadata": {},
   "outputs": [],
   "source": []
  }
 ],
 "metadata": {
  "kernelspec": {
   "display_name": "Python 3",
   "language": "python",
   "name": "python3"
  },
  "language_info": {
   "name": "python",
   "version": "3.8.15 (default, Oct 12 2022, 19:15:16) \n[GCC 11.2.0]"
  },
  "orig_nbformat": 4,
  "vscode": {
   "interpreter": {
    "hash": "5b3ded1ccb95c1d9bd405e7b823d9e85424cde40fbb5985eb47e999ef50e15b4"
   }
  }
 },
 "nbformat": 4,
 "nbformat_minor": 2
}
